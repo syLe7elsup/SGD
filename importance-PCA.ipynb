{
 "cells": [
  {
   "cell_type": "code",
   "execution_count": 1,
   "metadata": {},
   "outputs": [],
   "source": [
    "import numpy as np\n",
    "from numpy import linalg as la\n",
    "import matplotlib.pyplot as plt\n",
    "import sys\n",
    "from sklearn.datasets import load_svmlight_file\n",
    "from tqdm import tqdm"
   ]
  },
  {
   "cell_type": "code",
   "execution_count": 2,
   "metadata": {},
   "outputs": [],
   "source": [
    "def f(A, b, x):\n",
    "    return x.T @ A @ x / 2 + x.T @ b"
   ]
  },
  {
   "cell_type": "code",
   "execution_count": 3,
   "metadata": {},
   "outputs": [],
   "source": [
    "def solution(A, b):\n",
    "    return - la.inv(A) @ b"
   ]
  },
  {
   "cell_type": "code",
   "execution_count": 4,
   "metadata": {},
   "outputs": [],
   "source": [
    "def grad_f(a, b, D, i, x):\n",
    "#     print(i)\n",
    "    return (np.outer(a[i], a[i]) + D[i]) @ x + b"
   ]
  },
  {
   "cell_type": "code",
   "execution_count": 27,
   "metadata": {},
   "outputs": [],
   "source": [
    "def grad_f_i(a, b, D, x, random_ind):\n",
    "#            A, y, x, lambd, random_ind, batch_size=1):\n",
    "#     print(random_ind, len(random_ind))\n",
    "    if len(np.array(random_ind, dtype=int)) == 1:\n",
    "        return np.array(grad_f(a, b, D, *random_ind, x))\n",
    "    else:\n",
    "#         grad = np.array([])\n",
    "#         grad += \n",
    "        grad = sum([grad_f(a, b, D, i, x) for i in list(random_ind)]) / len(random_ind)\n",
    "    #     grad = np.dot(A[random_ind].T, (np.dot(A[random_ind], x) - y[random_ind])) + batch_size*lambd * x\n",
    "    #     grad = grad/batch_size\n",
    "        return np.array(grad)"
   ]
  },
  {
   "cell_type": "code",
   "execution_count": 7,
   "metadata": {},
   "outputs": [],
   "source": [
    "def construct_v_independent_sampling(probab):\n",
    "    n = len(probab)\n",
    "    v = []\n",
    "    for i in range(0, n):\n",
    "        rand = np.random.rand();\n",
    "        if rand <= probab[i]:\n",
    "            v.append(i)\n",
    "    return v\n",
    "\n",
    "\n",
    "def construct_tau_nice(n, tau):\n",
    "    random_sample = np.random.choice(np.arange(n), tau, replace=False)\n",
    "    return random_sample"
   ]
  },
  {
   "cell_type": "code",
   "execution_count": 8,
   "metadata": {},
   "outputs": [],
   "source": [
    "# def sgd(A, y, x0, x_star, lambd, probab, step_size, \n",
    "#         epsilon=1e-6, max_epoch=100, seed=42, kind=\"proper\", tau = 1):\n",
    "\n",
    "def sgd(a, b, D, x0, x_star, \n",
    "        probab, step_size=1e-2, \n",
    "        epsilon=1e-4, max_epoch=100, seed=42, \n",
    "        kind=\"proper\", tau=1):    \n",
    "\n",
    "    np.random.seed(seed)\n",
    "    \n",
    "    n = len(D)\n",
    "    d = len(x0)\n",
    "    \n",
    "    x = x0\n",
    "    A = sum([np.outer(a[i], a[i]) for i in range(n)]) / n\n",
    "    \n",
    "    epoch_num = 0\n",
    "    iter_num = 0\n",
    "    \n",
    "    n_batch = np.arange(n)\n",
    "    \n",
    "    error = [la.norm(x - x_star)**2]\n",
    "    f_values = [] #[f(A, b, x)]\n",
    "    \n",
    "    while epoch_num < max_epoch and error[-1] > epsilon:     \n",
    "        if (kind == \"proper\"):\n",
    "            v = np.random.choice(n_batch, size=n, replace=True, p=probab)\n",
    "            for i in range(n):\n",
    "                rand_ind = v[i]\n",
    "                x = x - step_size * grad_f_i(a, b, D, x, [rand_ind])\n",
    "                iter_num += 1\n",
    "        elif (kind == \"taunice\"):\n",
    "            v = construct_tau_nice(n, tau)\n",
    "            x_new = x - step_size * grad_f_i(a, b, D, x, v)\n",
    "            x = x_new\n",
    "            iter_num += len(v)\n",
    "        else:\n",
    "            v = construct_v_independent_sampling(probab)\n",
    "            if len(v) == 0:\n",
    "                x = x\n",
    "            else:\n",
    "                x = x - step_size * grad_f_i(a, b, D, x, v)\n",
    "            iter_num += len(v)\n",
    "\n",
    "        \n",
    "        if iter_num >= n :\n",
    "            file = open(\"log.txt\", \"w+\")\n",
    "            file.write(str(epoch_num) + \" error: \" + str(error[-1]))\n",
    "            file.close()\n",
    "            \n",
    "            epoch_num += 1\n",
    "            iter_num = 0\n",
    "            temp = f(A, b, x)\n",
    "            f_values.append(temp)\n",
    "            error.append(la.norm(x - x_star)**2)\n",
    "    \n",
    "    \n",
    "    print(\"Number of epochs:\", epoch_num)\n",
    "    print(\"Error:\", la.norm(x - x_star)**2)\n",
    "    print()\n",
    "    \n",
    "    return x, f_values, error"
   ]
  },
  {
   "cell_type": "markdown",
   "metadata": {},
   "source": [
    "### Calculating constants"
   ]
  },
  {
   "cell_type": "code",
   "execution_count": 9,
   "metadata": {},
   "outputs": [],
   "source": [
    "def calculate_h(a, b, D, x_star):\n",
    "    n = len(D)\n",
    "    return [la.norm(grad_f(a, b, D, i, x_star))**2 for i in range(n)]"
   ]
  },
  {
   "cell_type": "code",
   "execution_count": 10,
   "metadata": {},
   "outputs": [],
   "source": [
    "def calculate_sigma_and_L_curly(M, h):\n",
    "    n = len(M)\n",
    "    sigma_2 = np.mean(h) #sum([la.norm(grad_f(a, b, D, i, x_star))**2 for i in range(n)]) / n\n",
    "    L_curly = max([max(abs(la.eigvals(M[i]))) for i in range(n)])\n",
    "\n",
    "    return sigma_2, L_curly"
   ]
  },
  {
   "cell_type": "code",
   "execution_count": 11,
   "metadata": {},
   "outputs": [],
   "source": [
    "def calculate_M(a, D):\n",
    "    n = len(D)\n",
    "    return [np.outer(a[i], a[i]) + D[i] for i in range(n)]"
   ]
  },
  {
   "cell_type": "markdown",
   "metadata": {},
   "source": [
    "$$\n",
    "h_i = \\| \\nabla f_i(x^*) \\|^2\n",
    "$$"
   ]
  },
  {
   "cell_type": "markdown",
   "metadata": {},
   "source": [
    "For proper & non-vacuous sampling\n",
    "$$\n",
    "\\sigma^2 = \\frac{1}{n^2} \\sum_{i \\in [n]} \\frac{1}{p_i} h_i\n",
    "$$\n",
    "$$\n",
    "\\mathcal{L} = \\frac{1}{n} \\max_{i \\in [n]} \\frac{\\lambda_{\\max} (M_i)}{p_i}\n",
    "$$"
   ]
  },
  {
   "cell_type": "code",
   "execution_count": 12,
   "metadata": {},
   "outputs": [],
   "source": [
    "def calculate_sigma2_proper (probab, h):\n",
    "    n = len(probab)\n",
    "    sig = 0\n",
    "    for i in range(n):\n",
    "        sig += (1 / probab[i]) * h[i]\n",
    "    sig = sig / n**2\n",
    "    \n",
    "    return sig\n",
    "\n",
    "def calculate_L_cal_proper (probab, M):\n",
    "    n = len(probab)\n",
    "    L = max([max(abs(la.eigvals(M[i])))/probab[i] for i in range(n)])\n",
    "    L = L/n\n",
    "    \n",
    "    return L"
   ]
  },
  {
   "cell_type": "markdown",
   "metadata": {},
   "source": [
    "For independent sampling where $\\mathbb{E}(|S|) = \\tau$\n",
    "$$\n",
    "\\sigma^2 = \\frac{1}{n^2} \\sum_{i \\in [n]} (\\frac{1}{p_i}-1)  h_i   \\\\\n",
    "\\mathcal{L} := \\mathcal{L}^i_{\\text{max}} = \\sum_{j \\in [n]} \\frac{\\lambda_{\\max}(M_j)}{n} + \\max_{i \\in [n]} (\\frac{1}{p_i} - 1) \\frac{\\lambda_{max}(M_i)}{n} \\\\\n",
    "$$"
   ]
  },
  {
   "cell_type": "code",
   "execution_count": 13,
   "metadata": {},
   "outputs": [],
   "source": [
    "def calculate_sigma2_indepedent (probab, h):\n",
    "    n = len(probab)\n",
    "    sig = 0\n",
    "\n",
    "    for i in range(n):\n",
    "        sig += (1 / probab[i] - 1) * h[i]\n",
    "    sig = sig / n**2\n",
    "    \n",
    "    return sig\n",
    "\n",
    "def calculate_L_cal_indepedent (probab, M):\n",
    "    L = 0\n",
    "    n = len(probab)\n",
    "    \n",
    "    for i in range(n):\n",
    "        L += max(abs(la.eigvals(M[i])))/n\n",
    "    \n",
    "    second_term = max([(1 / probab[i] - 1) * max(abs(la.eigvals(M[i])))/n for i in range(n)])\n",
    "    L += second_term\n",
    "    \n",
    "    return L"
   ]
  },
  {
   "cell_type": "markdown",
   "metadata": {},
   "source": [
    "For $\\tau$-nice sampling, we have:\n",
    "$$\n",
    "\\sigma^2 = \\frac{1}{n \\tau} \\frac{n-\\tau}{n-1} \\sum_{i \\in [n]} h_i\n",
    "$$\n",
    "$$\n",
    "\\mathcal{L} = \\frac{1}{\\tau} \\frac{\\tau-1}{n-1} \\sum_{j \\in [n]} \\lambda_{\\max} (M_j) + \\frac{1}{\\tau}(1-\\frac{\\tau-1}{n-1}) \\max_{i \\in [n]} \\lambda_{\\max} (M_i)\n",
    "$$"
   ]
  },
  {
   "cell_type": "code",
   "execution_count": 14,
   "metadata": {},
   "outputs": [],
   "source": [
    "def calculate_sigma2_taunice (h, tau):\n",
    "    n = len(h)\n",
    "    sig = 0\n",
    "\n",
    "    for i in range(n):\n",
    "        sig += h[i]\n",
    "    sig = sig/(n*tau)*(n-tau)/(n-1)\n",
    "    \n",
    "    return sig\n",
    "\n",
    "def calculate_L_cal_taunice (M, tau, n):\n",
    "    L = 0\n",
    "\n",
    "    for i in range(n):\n",
    "        L += max(abs(la.eigvals(M[i])))/n\n",
    "        \n",
    "    L = L/tau*(tau-1)/(n-1)\n",
    "    \n",
    "    second_term = max([max(abs(la.eigvals(M[i]))) for i in range(n)])\n",
    "    second_term = second_term/tau*(1-(tau-1)/(n-1))\n",
    "    L += second_term\n",
    "    \n",
    "    return L"
   ]
  },
  {
   "cell_type": "markdown",
   "metadata": {},
   "source": [
    "$$\n",
    "p_i^{\\mathcal{L}} = \\frac{\\lambda_{\\max}(M_i)}{\\sum_{j \\in [n]} \\lambda_{\\max} (M_j)} \\tau\n",
    "$$"
   ]
  },
  {
   "cell_type": "code",
   "execution_count": 15,
   "metadata": {},
   "outputs": [],
   "source": [
    "def calculate_prob_L(M, n, tau):\n",
    "    pl = np.zeros(n)\n",
    "    s = sum([max(abs(la.eigvals(M[i]))) for i in range(n)])\n",
    "    over = set()\n",
    "    below = set(range(n))\n",
    "\n",
    "    for i in range(n):\n",
    "        pl[i] = max(abs(la.eigvals(M[i]))) / s * tau\n",
    "        if pl[i] == 1.0:\n",
    "            below.discard(i)\n",
    "        if pl[i] > 1:\n",
    "            over.add(i)\n",
    "            below.discard(i)\n",
    "            \n",
    "    while len(over) > 0:\n",
    "        ind = over.pop()\n",
    "        rem = pl[ind] - 1\n",
    "        length_of_rem = len(below)\n",
    "        pl[ind] = 1\n",
    "        to_remove = set()\n",
    "        \n",
    "        for below_ind in below:\n",
    "            pl[below_ind] += rem / length_of_rem\n",
    "            if (pl[below_ind] > 1.0000000001):\n",
    "                over.add(below_ind)\n",
    "                to_remove.add(below_ind)\n",
    "        \n",
    "        for remove_ind in to_remove:\n",
    "            below.discard(remove_ind)\n",
    "            \n",
    "    return pl"
   ]
  },
  {
   "cell_type": "markdown",
   "metadata": {},
   "source": [
    "$$\n",
    "p^{\\sigma^2}_{i} = \\frac{\\sqrt{h_i}}{\\sum_{j \\in [n]} \\sqrt{h_j}} \\tau\n",
    "$$"
   ]
  },
  {
   "cell_type": "code",
   "execution_count": 16,
   "metadata": {},
   "outputs": [],
   "source": [
    "def calculate_prob_sigma(h, n, tau):\n",
    "    ps = np.zeros(n)\n",
    "    s = sum([abs(np.sqrt(h[i])) for i in range(n)])\n",
    "    over = set()\n",
    "    below = set(range(n))\n",
    "    \n",
    "    for i in range(n):\n",
    "        ps[i] = np.sqrt(h[i]) / s * tau\n",
    "        if ps[i] == 1.0:\n",
    "            below.discard(i)\n",
    "        if ps[i] > 1:\n",
    "            over.add(i)\n",
    "            below.discard(i)\n",
    "            \n",
    "    while len(over) > 0:\n",
    "        ind = over.pop()\n",
    "        rem = ps[ind] - 1\n",
    "        length_of_rem = len(below)\n",
    "        ps[ind] = 1\n",
    "        to_remove = set()\n",
    "        \n",
    "        for below_ind in below:\n",
    "            ps[below_ind]+= rem / length_of_rem\n",
    "            if ps[below_ind] > 1.0000000001:\n",
    "                over.add(below_ind)\n",
    "                to_remove.add(below_ind)\n",
    "        \n",
    "        for remove_ind in to_remove:\n",
    "            below.discard(remove_ind)\n",
    "            \n",
    "    return ps"
   ]
  },
  {
   "cell_type": "code",
   "execution_count": 17,
   "metadata": {},
   "outputs": [],
   "source": [
    "def calculate_optimal_prob_independent(M, h, n, tau, epsilon, mu):\n",
    "    a = 2 * (sum([np.sqrt(h[i]) for i in range(n)])/n)**2 / (epsilon * mu * sum([max(abs(la.eigvals(M[i]))) for i in range(n)])/n)\n",
    "#     print(a)\n",
    "    alpha = (tau - a - 1 + np.sqrt(4 * tau + (tau - a - 1)**2)) / (2 * tau)\n",
    "    \n",
    "    pl = calculate_prob_L(M, n, int(alpha*tau))\n",
    "    ps = calculate_prob_sigma(h, n, int((1-alpha)*tau))\n",
    "    \n",
    "#     print(alpha)\n",
    "    p_opt =  pl +  ps\n",
    "    \n",
    "    return p_opt"
   ]
  },
  {
   "cell_type": "code",
   "execution_count": 18,
   "metadata": {},
   "outputs": [],
   "source": [
    "def calculate_optimal_prob_proper(M, h, n, epsilon, mu):\n",
    "    pl = calculate_prob_L(M, n, 1)\n",
    "    ps = calculate_prob_sigma(h, n, 1)\n",
    "    L_opt = sum([max(abs(la.eigvals(M[i]))) for i in range(n)])/n\n",
    "    sig2_opt = (sum([abs(np.sqrt(h[i])) for i in range(n)])/n)**2\n",
    "    print(sig2_opt)\n",
    "    alpha = epsilon*mu*L_opt/(2*sig2_opt+epsilon*mu*L_opt)\n",
    "    print(alpha)\n",
    "    p_opt = alpha * pl + (1 - alpha) * ps\n",
    "    \n",
    "    return p_opt"
   ]
  },
  {
   "cell_type": "code",
   "execution_count": 19,
   "metadata": {},
   "outputs": [],
   "source": [
    "def calculate_stepsize(L_cal, epsilon, mu, sigma2):\n",
    "    gamma = min(1 / (2 * L_cal), epsilon * mu / (4 * sigma2))\n",
    "\n",
    "    return gamma"
   ]
  },
  {
   "cell_type": "code",
   "execution_count": 20,
   "metadata": {},
   "outputs": [],
   "source": [
    "def calculate_expected_number_of_epochs(L_cal, epsilon, mu, sigma2, x0, x_star, n):\n",
    "    k = max(2 * L_cal / mu, 4 * sigma2 / (epsilon * mu**2)) * np.log(2 * la.norm(x0 - x_star)**2 / epsilon)\n",
    "    return k/n"
   ]
  },
  {
   "cell_type": "code",
   "execution_count": 21,
   "metadata": {},
   "outputs": [],
   "source": [
    "def calculate_tau_star_independent(h, L, n, mu, epsilon):\n",
    "    t = 0\n",
    "    h_bar = sum(h)/n\n",
    "    L_max = max(L)\n",
    "    t = n*(2/(mu*epsilon)*h_bar - L_max)/(2/(mu*epsilon)*h_bar - L_max + sum(L))\n",
    "    return t\n",
    "    "
   ]
  },
  {
   "cell_type": "code",
   "execution_count": 22,
   "metadata": {},
   "outputs": [],
   "source": [
    "def calculate_tau_star_taunice(h, L, n, mu, epsilon):\n",
    "    t = 0\n",
    "    h_bar = sum(h)/n\n",
    "    L_max = max(L)\n",
    "    L_bar = sum(L)/n\n",
    "    \n",
    "    t = n*(L_bar - L_max + 2/(mu*epsilon)*h_bar)/(n*L_bar - L_max + 2/(mu*epsilon)*h_bar)\n",
    "    return t\n",
    "    "
   ]
  },
  {
   "cell_type": "markdown",
   "metadata": {},
   "source": [
    "## Data"
   ]
  },
  {
   "cell_type": "code",
   "execution_count": 99,
   "metadata": {},
   "outputs": [
    {
     "data": {
      "text/plain": [
       "(10,)"
      ]
     },
     "execution_count": 99,
     "metadata": {},
     "output_type": "execute_result"
    }
   ],
   "source": [
    "a[0].shape"
   ]
  },
  {
   "cell_type": "code",
   "execution_count": 36,
   "metadata": {},
   "outputs": [
    {
     "name": "stdout",
     "output_type": "stream",
     "text": [
      "Mu = 7.17397645903224\n",
      "Sigma_2 = 4182.774758900282 \n",
      "L_curly = 640.4665828307931 \n",
      "\n",
      "Step size: 0.0007806808558067995\n",
      "Expected minimum number of steps for epsilon-accuracy: 3384923.906041582\n"
     ]
    }
   ],
   "source": [
    "n, d = 1000, 10\n",
    "scale = 10\n",
    "epsilon = 1e-3\n",
    "max_epoch = 5000\n",
    "tau = int(n/10)\n",
    "\n",
    "np.random.seed(0)\n",
    "\n",
    "a = np.random.rand(n, d) * scale\n",
    "# a = np.random.normal(scale=scale, size=(n, d)) #np.random.binomial(n=1, p=0.5, size=(n, d))\n",
    "# Matrix normalization for ||a||_2 = 1\n",
    "# a = np.nan_to_num(a / (la.norm(a, axis=1, ord=2)).reshape(a.shape[0], -1))\n",
    "\n",
    "A = sum([np.outer(a[i], a[i]) for i in range(n)]) / n\n",
    "\n",
    "b = np.random.rand(d) * scale\n",
    "#np.random.normal(scale=scale, size=d) #np.random.binomial(1, 0.5, size=d)#.reshape((d, -1))\n",
    "\n",
    "\n",
    "# Analytical solution\n",
    "x_star = solution(A, b)\n",
    "\n",
    "# Problem constants\n",
    "mu = min(la.eigvals(A))\n",
    "print(\"Mu =\", mu)\n",
    "\n",
    "# Decomposition\n",
    "delta = scale + 1\n",
    "D = [np.zeros((d, d)) for i in range(n)]\n",
    "\n",
    "for j in range(d):\n",
    "    indxs = np.random.choice(n, size=int(n/2), replace=False)\n",
    "    for i in range(n):\n",
    "        if i in indxs:\n",
    "            D[i][j, j] = delta #unit_impulse(shape=(d, d), idx=indx)\n",
    "        else: \n",
    "            D[i][j, j] = - delta\n",
    "\n",
    "M = calculate_M(a, D)\n",
    "h = calculate_h(a, b, D, x_star)\n",
    "\n",
    "L = [max(abs(la.eigvals(M[i]))) for i in range(n)]\n",
    "\n",
    "sigma_2, L_curly = calculate_sigma_and_L_curly(M, h)\n",
    "print(\"Sigma_2 = {} \\nL_curly = {} \\n\".format(sigma_2, L_curly))\n",
    "\n",
    "# step_size = select_step_size(L_curly, mu, sigma_2, epsilon)\n",
    "step_size = 1 / (2 * L_curly)\n",
    "print(\"Step size:\", step_size)\n",
    "\n",
    "x0 = np.random.normal(size=len(x_star))\n",
    "print(\"Expected minimum number of steps for epsilon-accuracy:\", \n",
    "      max(2 * L_curly / mu, 4 * sigma_2 / (epsilon * mu**2)) * np.log(2 * la.norm(x_star - x0)**2 / epsilon))"
   ]
  },
  {
   "cell_type": "code",
   "execution_count": 37,
   "metadata": {},
   "outputs": [
    {
     "name": "stdout",
     "output_type": "stream",
     "text": [
      "1000 10\n"
     ]
    }
   ],
   "source": [
    "print(n, d)"
   ]
  },
  {
   "cell_type": "markdown",
   "metadata": {},
   "source": [
    "## Proper, non-vacuous sampling"
   ]
  },
  {
   "cell_type": "code",
   "execution_count": 38,
   "metadata": {
    "scrolled": true
   },
   "outputs": [
    {
     "name": "stdout",
     "output_type": "stream",
     "text": [
      "Expected number of epochs: 3384.9239060415803\n",
      "Stepsize: 4.287809452186708e-07\n"
     ]
    }
   ],
   "source": [
    "probab_uniform = np.ones(n)/n\n",
    "L_cal = calculate_L_cal_proper(probab_uniform, M)\n",
    "sigma2 = calculate_sigma2_proper(probab_uniform, h)\n",
    "step_size = calculate_stepsize(L_cal, epsilon, mu, sigma2)\n",
    "epoch_n = calculate_expected_number_of_epochs(L_cal, epsilon, mu, sigma2, x0, x_star, n)\n",
    "print(\"Expected number of epochs:\", epoch_n)\n",
    "print(\"Stepsize:\", step_size)"
   ]
  },
  {
   "cell_type": "code",
   "execution_count": 39,
   "metadata": {
    "scrolled": false
   },
   "outputs": [
    {
     "name": "stdout",
     "output_type": "stream",
     "text": [
      "Number of epochs: 1434\n",
      "Error: 0.0009984040784083333\n",
      "\n"
     ]
    }
   ],
   "source": [
    "x_opt_proper, f_val_proper, x_err_proper = sgd(a, b, D, x0, x_star, \n",
    "                                               probab=probab_uniform, step_size=step_size, \n",
    "                                               epsilon=epsilon, max_epoch=max_epoch, \n",
    "                                               kind=\"proper\", tau=1) \n",
    "#sgd(A, y, x_0, x_star, lambd, probab_uniform, step_size, epsilon=epsilon, max_epoch=epoch_num, kind=\"proper\")"
   ]
  },
  {
   "cell_type": "markdown",
   "metadata": {},
   "source": [
    "#### Proper, non-vacuous sampling, Importance"
   ]
  },
  {
   "cell_type": "code",
   "execution_count": 41,
   "metadata": {},
   "outputs": [
    {
     "name": "stdout",
     "output_type": "stream",
     "text": [
      "2911.5442257437076\n",
      "0.00040726723395073964\n",
      "Expected number of epochs: 2356.1767318278226\n",
      "Stepsize: 6.159940603436213e-07\n"
     ]
    }
   ],
   "source": [
    "p_proper_opt = calculate_optimal_prob_proper(M, h, n, epsilon, mu)\n",
    "L_cal = calculate_L_cal_proper(p_proper_opt, M)\n",
    "sigma2 = calculate_sigma2_proper(p_proper_opt, h)\n",
    "step_size = calculate_stepsize(L_cal, epsilon, mu, sigma2)\n",
    "epoch_n = calculate_expected_number_of_epochs(L_cal, epsilon, mu, sigma2, x0, x_star, n)\n",
    "print(\"Expected number of epochs:\", epoch_n)\n",
    "print(\"Stepsize:\", step_size)"
   ]
  },
  {
   "cell_type": "code",
   "execution_count": 42,
   "metadata": {
    "scrolled": false
   },
   "outputs": [],
   "source": [
    "# x_opt_proper_importance, f_val_proper_importance, x_err_proper_importance = sgd(A, y, x0, x_star, lambd, \n",
    "#                                 p_proper_opt, step_size, epsilon=epsilon, max_epoch=epoch_num, kind=\"proper\")"
   ]
  },
  {
   "cell_type": "markdown",
   "metadata": {},
   "source": [
    "## Independence Sampling"
   ]
  },
  {
   "cell_type": "code",
   "execution_count": 43,
   "metadata": {},
   "outputs": [
    {
     "name": "stdout",
     "output_type": "stream",
     "text": [
      "Expected number of epochs: 30.46431515437425\n",
      "Stepsize: 4.764232724651894e-05\n"
     ]
    }
   ],
   "source": [
    "p_uniform = np.ones(n)/n*tau\n",
    "L_cal = calculate_L_cal_indepedent(p_uniform, M)\n",
    "sigma2 = calculate_sigma2_indepedent(p_uniform, h)\n",
    "step_size = calculate_stepsize(L_cal, epsilon, mu, sigma2)\n",
    "epoch_n = calculate_expected_number_of_epochs(L_cal, epsilon, mu, sigma2, x0, x_star, n)\n",
    "print(\"Expected number of epochs:\", epoch_n)\n",
    "print(\"Stepsize:\", step_size)"
   ]
  },
  {
   "cell_type": "code",
   "execution_count": 44,
   "metadata": {},
   "outputs": [
    {
     "name": "stdout",
     "output_type": "stream",
     "text": [
      "Number of epochs: 1247\n",
      "Error: 0.0009952087309089345\n",
      "\n"
     ]
    }
   ],
   "source": [
    "x_opt_indep, f_val_indep, x_err_indep = sgd(a, b, D, x0, x_star, \n",
    "                                               probab=p_uniform, step_size=step_size, \n",
    "                                               epsilon=epsilon, max_epoch=max_epoch, \n",
    "                                               kind=\"independent\", tau=1) \n",
    "# sgd(A, y, x0, x_star, lambd, p_uniform, step_size,\n",
    "#                              epsilon=epsilon, max_epoch=epoch_num, kind=\"independent\")"
   ]
  },
  {
   "cell_type": "markdown",
   "metadata": {},
   "source": [
    "#### Independence, importance"
   ]
  },
  {
   "cell_type": "code",
   "execution_count": 45,
   "metadata": {
    "scrolled": true
   },
   "outputs": [
    {
     "name": "stdout",
     "output_type": "stream",
     "text": [
      "Expected number of epochs: 20.414838868745562\n",
      "Stepsize: 7.109489725867076e-05\n"
     ]
    }
   ],
   "source": [
    "p_optimal = calculate_optimal_prob_independent(M, h, n, tau, epsilon, mu)\n",
    "L_cal = calculate_L_cal_indepedent(p_optimal, M)\n",
    "sigma2 = calculate_sigma2_indepedent(p_optimal, h)\n",
    "step_size = calculate_stepsize(L_cal, epsilon, mu, sigma2)\n",
    "epoch_n = calculate_expected_number_of_epochs(L_cal, epsilon, mu, sigma2, x0, x_star, n)\n",
    "print(\"Expected number of epochs:\", epoch_n)\n",
    "print(\"Stepsize:\", step_size)"
   ]
  },
  {
   "cell_type": "code",
   "execution_count": 46,
   "metadata": {},
   "outputs": [],
   "source": [
    "# x_opt_indep_importance, f_val_indep_importance, x_err_indep_importance = sgd(A, y, x0, x_star, lambd, p_optimal, step_size,\n",
    "#                              epsilon=epsilon, max_epoch=epoch_num, kind=\"independent\")"
   ]
  },
  {
   "cell_type": "markdown",
   "metadata": {},
   "source": [
    "#### Independent, uniform with optimal minibatch"
   ]
  },
  {
   "cell_type": "code",
   "execution_count": 47,
   "metadata": {
    "scrolled": true
   },
   "outputs": [
    {
     "name": "stdout",
     "output_type": "stream",
     "text": [
      "Expected number of epochs: 0.9658780297445133\n",
      "Stepsize: 0.00150266475396453\n"
     ]
    }
   ],
   "source": [
    "tau_star = calculate_tau_star_independent(h, L, n, mu, epsilon)\n",
    "tau_star = int(tau_star)\n",
    "p_uniform_tau = np.ones(n)/n*tau_star\n",
    "L_cal = calculate_L_cal_indepedent(p_uniform_tau, M)\n",
    "sigma2 = calculate_sigma2_indepedent(p_uniform_tau, h)\n",
    "step_size = calculate_stepsize(L_cal, epsilon, mu, sigma2)\n",
    "epoch_n = calculate_expected_number_of_epochs(L_cal, epsilon, mu, sigma2, x0, x_star, n)\n",
    "print(\"Expected number of epochs:\", epoch_n)\n",
    "print(\"Stepsize:\", step_size)"
   ]
  },
  {
   "cell_type": "code",
   "execution_count": 48,
   "metadata": {},
   "outputs": [
    {
     "name": "stdout",
     "output_type": "stream",
     "text": [
      "Number of epochs: 209\n",
      "Error: 0.000942608855770687\n",
      "\n"
     ]
    }
   ],
   "source": [
    "x_opt_indep_tau, f_val_indep_tau, x_err_indep_tau = sgd(a, b, D, x0, x_star, \n",
    "                                               probab=p_uniform_tau, step_size=step_size, \n",
    "                                               epsilon=epsilon, max_epoch=max_epoch, \n",
    "                                               kind=\"independent\") \n",
    "# sgd(A, y, x0, x_star, lambd, p_uniform_tau, step_size,\n",
    "#                              epsilon=epsilon, max_epoch=epoch_num, kind=\"independent\")"
   ]
  },
  {
   "cell_type": "markdown",
   "metadata": {},
   "source": [
    "#### $\\tau$-nice sampling"
   ]
  },
  {
   "cell_type": "code",
   "execution_count": 49,
   "metadata": {},
   "outputs": [
    {
     "name": "stdout",
     "output_type": "stream",
     "text": [
      "Expected number of epochs: 30.494809964338582\n",
      "Stepsize: 4.7594684919272426e-05\n"
     ]
    }
   ],
   "source": [
    "p_uniform_tau = np.ones(n)/n*tau\n",
    "L_cal = calculate_L_cal_taunice(M, tau, n)\n",
    "sigma2 = calculate_sigma2_taunice(h, tau)\n",
    "step_size = calculate_stepsize(L_cal, epsilon, mu, sigma2)\n",
    "epoch_n = calculate_expected_number_of_epochs(L_cal, epsilon, mu, sigma2, x0, x_star, n)\n",
    "print(\"Expected number of epochs:\", epoch_n)\n",
    "print(\"Stepsize:\", step_size)"
   ]
  },
  {
   "cell_type": "code",
   "execution_count": 50,
   "metadata": {},
   "outputs": [
    {
     "name": "stdout",
     "output_type": "stream",
     "text": [
      "Number of epochs: 1270\n",
      "Error: 0.0009940533750402581\n",
      "\n"
     ]
    }
   ],
   "source": [
    "x_opt_taunice, f_val_taunice, x_err_taunice = sgd(a, b, D, x0, x_star, \n",
    "                                               probab=p_uniform_tau, step_size=step_size, \n",
    "                                               epsilon=epsilon, max_epoch=max_epoch, \n",
    "                                               kind=\"taunice\", tau=tau) "
   ]
  },
  {
   "cell_type": "markdown",
   "metadata": {},
   "source": [
    "#### $\\tau$-nice with optimal $\\tau$"
   ]
  },
  {
   "cell_type": "code",
   "execution_count": 51,
   "metadata": {},
   "outputs": [
    {
     "name": "stdout",
     "output_type": "stream",
     "text": [
      "779\n",
      "Expected number of epochs: 0.9612541723176189\n",
      "Stepsize: 0.0015098929229367378\n"
     ]
    }
   ],
   "source": [
    "taunice_opt = int(calculate_tau_star_taunice(h, L, n, mu, epsilon))\n",
    "print(taunice_opt)\n",
    "# taunice_opt = n\n",
    "L_cal = calculate_L_cal_taunice(M, taunice_opt, n)\n",
    "sigma2 = calculate_sigma2_taunice(h, taunice_opt)\n",
    "step_size = calculate_stepsize(L_cal, epsilon, mu, sigma2)\n",
    "epoch_n = calculate_expected_number_of_epochs(L_cal, epsilon, mu, sigma2, x0, x_star, n)\n",
    "print(\"Expected number of epochs:\", epoch_n)\n",
    "print(\"Stepsize:\", step_size)"
   ]
  },
  {
   "cell_type": "code",
   "execution_count": 52,
   "metadata": {
    "scrolled": true
   },
   "outputs": [
    {
     "name": "stdout",
     "output_type": "stream",
     "text": [
      "Number of epochs: 199\n",
      "Error: 0.000992853353621596\n",
      "\n"
     ]
    }
   ],
   "source": [
    "x_opt_taunice_taustar, f_val_taunice_taustar, x_err_taunice_taustar = sgd(a, b, D, x0, x_star, \n",
    "                                                                          probab=np.ones(n)/n, step_size=step_size, \n",
    "                                                                          epsilon=epsilon, max_epoch=max_epoch, \n",
    "                                                                          kind=\"taunice\", tau=taunice_opt) \n",
    "# sgd(A, y, x0, x_star, lambd, np.ones(n)/n, step_size,\n",
    "#                              epsilon=epsilon, max_epoch=epoch_num, kind=\"taunice\", tau=taunice_opt)"
   ]
  },
  {
   "cell_type": "code",
   "execution_count": 53,
   "metadata": {},
   "outputs": [],
   "source": [
    "from matplotlib.pyplot import figure"
   ]
  },
  {
   "cell_type": "code",
   "execution_count": 56,
   "metadata": {},
   "outputs": [],
   "source": [
    "import pickle"
   ]
  },
  {
   "cell_type": "code",
   "execution_count": 57,
   "metadata": {},
   "outputs": [],
   "source": [
    "with open('PCA_synthetic_samplings.pickle'.format(n, d, scale), 'wb') as f:\n",
    "    pickle.dump([x_err_proper / la.norm(x0 - x_star)**2,\n",
    "                 x_err_indep / la.norm(x0 - x_star)**2,\n",
    "                 x_err_indep_tau / la.norm(x0 - x_star)**2,\n",
    "                 x_err_taunice / la.norm(x0 - x_star)**2,\n",
    "                 x_err_taunice_taustar / la.norm(x0 - x_star)**2], f)\n",
    "\n",
    "# # # scalings = {}\n",
    "# with open('PCA_synthetic_samplings.pickle', 'rb') as f:\n",
    "#     [[x_const, x_adapt], [f_vals_const_scaled, f_vals_adapt_scaled], [x_err_const_scaled, x_err_adapt_scaled]] = pickle.load(f)"
   ]
  },
  {
   "cell_type": "code",
   "execution_count": 142,
   "metadata": {},
   "outputs": [],
   "source": [
    "plt.rcParams['lines.linewidth'] = 2\n",
    "plt.rcParams['lines.markersize'] = 12\n",
    "plt.rcParams['xtick.labelsize'] = 30#24\n",
    "plt.rcParams['ytick.labelsize'] = 30#24\n",
    "plt.rcParams['legend.fontsize'] = 36#24\n",
    "plt.rcParams['axes.titleweight'] = 'bold'\n",
    "plt.rcParams['axes.titlesize'] = 42#36\n",
    "plt.rcParams['axes.labelsize'] = 36#24\n",
    "plt.rc('text', usetex=True)"
   ]
  },
  {
   "cell_type": "code",
   "execution_count": 187,
   "metadata": {},
   "outputs": [
    {
     "data": {
      "image/png": "[encoded data removed]",
      "text/plain": [
       "<Figure size 1296x576 with 1 Axes>"
      ]
     },
     "metadata": {
      "needs_background": "light"
     },
     "output_type": "display_data"
    }
   ],
   "source": [
    "\"\"\"PLOTTING\"\"\"\n",
    "fig = plt.figure(figsize=(18, 8))\n",
    "# plt.title(r\"$n = {}, d = {}$\".format(n_2, d_2), fontsize=42)\n",
    "st = fig.suptitle(r\"$n = {}, d = {}, \\tau=n/5$\".format(n, d), fontsize=42)\n",
    "\n",
    "\n",
    "# plt.semilogy(x_err_proper, label='Constant step size', \n",
    "#              marker='o', markersize=35, markevery=10, linewidth=5)\n",
    "\n",
    "# plt.semilogy(x_err_adapt_scaled, label='Decreasing step size', \n",
    "#              marker='D', markersize=35, markevery=10, linewidth=5)\n",
    "\n",
    "line1, = plt.semilogy(x_err_proper / la.norm(x0 - x_star)**2, color = 'r',\n",
    "             marker='o',markersize=35, markevery=200, linewidth=5,\n",
    "             label=\"Singletons\")#r\"single element sampling uniform\")\n",
    "\n",
    "line4, = plt.semilogy(x_err_taunice / la.norm(x0 - x_star)**2, color = 'purple', \n",
    "             marker='d', markersize=35, markevery=0.198, linewidth=5,\n",
    "             label=r\"$\\tau$-nice \")\n",
    "\n",
    "line2, = plt.semilogy(x_err_indep / la.norm(x0 - x_star)**2, color = 'black', \n",
    "             marker='X',markersize=35,  markevery=0.33, linewidth=5,\n",
    "             label=r\"$\\tau$-ind\")\n",
    "\n",
    "line3, = plt.semilogy(x_err_indep_tau / la.norm(x0 - x_star)**2, color = 'brown', \n",
    "             marker='P', markersize=35, markevery=70, linewidth=5,\n",
    "             label=r\"${}=\\tau^*$-ind\".format(tau_star))\n",
    "\n",
    "line5, = plt.semilogy(x_err_taunice_taustar / la.norm(x0 - x_star)**2, color = 'orange', \n",
    "             marker='*', markersize=35, markevery=99, linewidth=5,\n",
    "             label=r\"${}=\\tau^*$-nice\".format(taunice_opt)) #, $\\tau^*$ = %d \n",
    "\n",
    "\n",
    "plt.xlabel(\"Epoch number\")\n",
    "plt.ylabel(\"Error\") #  r\"$\\|x_k - x^*\\|^2$\n",
    "\n",
    "# plt.xlim((None, 400))\n",
    "# plt.grid()\n",
    "plt.minorticks_off()\n",
    "# plt.legend(loc='best', shadow=True, fontsize=42)#, ncol=2) # \n",
    "first_legend = plt.legend(handles=[line4, line2, line3, line5], fontsize=42)\n",
    "ax = plt.gca().add_artist(first_legend)\n",
    "plt.legend(handles=[line1], fontsize=42, bbox_to_anchor=(0.245, 1))\n",
    "# (lines, labels) = plt.gca().get_legend_handles_labels()\n",
    "# leg1 = plt.legend(lines[:1], labels[:1], bbox_to_anchor=(0,0,0.8,1), loc=1)\n",
    "# leg2 = plt.legend(lines[1:], labels[1:], bbox_to_anchor=(0,0,1,1), loc=1)\n",
    "# gca().add_artist(leg1)\n",
    "# gca().add_artist(leg2)\n",
    "\n",
    "st.set_y(1.03)\n",
    "fig.subplots_adjust(top=0.95)\n",
    "# plt.tight_layout()\n",
    "plt.savefig('Sum-of-Non-Convex_Objectives_samplings-comparison_u.pdf'.format(n, d), bbox_inches='tight')\n",
    "plt.show()"
   ]
  },
  {
   "cell_type": "code",
   "execution_count": null,
   "metadata": {},
   "outputs": [],
   "source": [
    "t = np.arange(2, n-1, 2)\n",
    "st_s = []\n",
    "for t_bat in t:\n",
    "    L_cal = calculate_L_cal_taunice(M, t_bat, n)\n",
    "    sigma2 = calculate_sigma2_taunice(h, t_bat)\n",
    "    step_size = calculate_stepsize(L_cal, epsilon, mu, sigma2)\n",
    "    st_s.append(step_size)"
   ]
  },
  {
   "cell_type": "code",
   "execution_count": null,
   "metadata": {},
   "outputs": [],
   "source": [
    "plt.plot(t, st_s, '+')\n",
    "\n",
    "\n",
    "plt.grid()\n",
    "plt.title(\"Evolution of stepsizes in minibatch size \\n n = %d, d = %d, $\\lambda = 1/n$, $\\epsilon=10^{-3}$\" %(n,d))\n",
    "plt.xlabel(r\"minibatch size, $\\tau$\")\n",
    "plt.ylabel(r\"stepsize, $\\gamma$\")\n",
    "plt.savefig(\"n%d_d%d_stepsize_minibatch.pdf\" %(n,d))\n",
    "\n",
    "\n",
    "plt.show()\n"
   ]
  },
  {
   "cell_type": "markdown",
   "metadata": {},
   "source": [
    "## Real Data"
   ]
  },
  {
   "cell_type": "code",
   "execution_count": null,
   "metadata": {},
   "outputs": [],
   "source": []
  },
  {
   "cell_type": "code",
   "execution_count": null,
   "metadata": {},
   "outputs": [],
   "source": [
    "\n"
   ]
  }
 ],
 "metadata": {
  "kernelspec": {
   "display_name": "Python 3",
   "language": "python",
   "name": "python3"
  },
  "language_info": {
   "codemirror_mode": {
    "name": "ipython",
    "version": 3
   },
   "file_extension": ".py",
   "mimetype": "text/x-python",
   "name": "python",
   "nbconvert_exporter": "python",
   "pygments_lexer": "ipython3",
   "version": "3.7.1"
  }
 },
 "nbformat": 4,
 "nbformat_minor": 2
}
